{
 "cells": [
  {
   "cell_type": "code",
   "execution_count": null,
   "metadata": {
    "execution": {
     "iopub.execute_input": "2020-04-28T12:13:02.540864Z",
     "iopub.status.busy": "2020-04-28T12:13:02.540256Z",
     "iopub.status.idle": "2020-04-28T12:13:03.201618Z",
     "shell.execute_reply": "2020-04-28T12:13:03.200236Z"
    },
    "papermill": {
     "duration": 0.676784,
     "end_time": "2020-04-28T12:13:03.201819",
     "exception": false,
     "start_time": "2020-04-28T12:13:02.525035",
     "status": "completed"
    },
    "tags": []
   },
   "outputs": [],
   "source": [
    "#hide\n",
    "import numpy as np\n",
    "import pandas as pd\n",
    "import matplotlib.pyplot as plt\n",
    "import altair as alt\n",
    "from load_covid_data import load_individual_timeseries\n",
    "%config InlineBackend.figure_format = 'retina'\n",
    "\n",
    "chart_width = 550\n",
    "chart_height= 400"
   ]
  },
  {
   "cell_type": "markdown",
   "metadata": {
    "papermill": {
     "duration": 0.011934,
     "end_time": "2020-04-28T12:13:03.223945",
     "exception": false,
     "start_time": "2020-04-28T12:13:03.212011",
     "status": "completed"
    },
    "tags": []
   },
   "source": [
    "## Deaths Per Million Of Inhabitants"
   ]
  },
  {
   "cell_type": "markdown",
   "metadata": {
    "papermill": {
     "duration": 0.009394,
     "end_time": "2020-04-28T12:13:03.242807",
     "exception": false,
     "start_time": "2020-04-28T12:13:03.233413",
     "status": "completed"
    },
    "tags": []
   },
   "source": [
    "Since reaching at least 1 death per million\n",
    "\n",
    "> Tip: Click (Shift+ for multiple) on countries in the legend to filter the visualization."
   ]
  },
  {
   "cell_type": "code",
   "execution_count": null,
   "metadata": {
    "execution": {
     "iopub.execute_input": "2020-04-28T12:13:03.276985Z",
     "iopub.status.busy": "2020-04-28T12:13:03.275021Z",
     "iopub.status.idle": "2020-04-28T12:13:08.961669Z",
     "shell.execute_reply": "2020-04-28T12:13:08.960761Z"
    },
    "papermill": {
     "duration": 5.709519,
     "end_time": "2020-04-28T12:13:08.961828",
     "exception": false,
     "start_time": "2020-04-28T12:13:03.252309",
     "status": "completed"
    },
    "tags": []
   },
   "outputs": [],
   "source": [
    "#hide \n",
    "data = pd.read_csv(\"https://raw.githubusercontent.com/CSSEGISandData/COVID-19/master/csse_covid_19_data/csse_covid_19_time_series/time_series_covid19_deaths_global.csv\", \n",
    "                   error_bad_lines=False)\n",
    "data = data.drop(columns=[\"Lat\", \"Long\"])\n",
    "data = data.melt(id_vars= [\"Province/State\", \"Country/Region\"])\n",
    "data = pd.DataFrame(data.groupby(['Country/Region', \"variable\"]).sum())\n",
    "data.reset_index(inplace=True)  \n",
    "data = data.rename(columns={\"Country/Region\": \"location\", \"variable\": \"date\", \"value\": \"total_cases\"})\n",
    "data['date'] =pd.to_datetime(data.date)\n",
    "data = data.sort_values(by = \"date\")\n",
    "data.loc[data.location == \"US\",\"location\"] = \"United States\"\n",
    "data.loc[data.location == \"Korea, South\",\"location\"] = \"South Korea\"\n",
    "\n",
    "data_pwt = pd.read_stata(\"https://www.rug.nl/ggdc/docs/pwt91.dta\")\n",
    "\n",
    "filter1 = data_pwt[\"year\"] == 2017\n",
    "data_pop = data_pwt[filter1]\n",
    "data_pop = data_pop[[\"country\",\"pop\"]]\n",
    "data_pop.loc[data_pop.country == \"Republic of Korea\",\"country\"] = \"South Korea\"\n",
    "data_pop.loc[data_pop.country == \"Iran (Islamic Republic of)\",\"country\"] = \"Iran\"\n",
    "\n",
    "# per habitant\n",
    "data_pc = data.copy()\n",
    "countries = [\"Italy\", \"Spain\", \"France\", \"United Kingdom\", \"Germany\", \n",
    "             \"Portugal\", \"United States\", \"Singapore\", \"South Korea\", \"Japan\", \n",
    "             \"Brazil\", \"Iran\", 'Netherlands', 'Belgium', 'Sweden', \"Romania\",\n",
    "             'Switzerland', 'Norway', 'Denmark', 'Austria', 'Slovenia', 'Greece']\n",
    "data_countries = []\n",
    "data_countries_pc = []\n",
    "\n",
    "# compute per habitant\n",
    "for i in countries:\n",
    "    data_pc.loc[data_pc.location == i,\"total_cases\"] = data_pc.loc[data_pc.location == i,\"total_cases\"]/float(data_pop.loc[data_pop.country == i, \"pop\"])\n",
    "\n",
    "    # get each country time series\n",
    "filter1 = data_pc[\"total_cases\"] > 1\n",
    "for i in countries:\n",
    "    filter_country = data_pc[\"location\"]== i\n",
    "    data_countries_pc.append(data_pc[filter_country & filter1])"
   ]
  },
  {
   "cell_type": "code",
   "execution_count": null,
   "metadata": {
    "execution": {
     "iopub.execute_input": "2020-04-28T12:13:09.002507Z",
     "iopub.status.busy": "2020-04-28T12:13:08.989757Z",
     "iopub.status.idle": "2020-04-28T12:13:13.031337Z",
     "shell.execute_reply": "2020-04-28T12:13:13.031841Z"
    },
    "papermill": {
     "duration": 4.059687,
     "end_time": "2020-04-28T12:13:13.031976",
     "exception": false,
     "start_time": "2020-04-28T12:13:08.972289",
     "status": "completed"
    },
    "tags": []
   },
   "outputs": [],
   "source": [
    "#hide_input\n",
    "# Stack data to get it to Altair dataframe format\n",
    "data_countries_pc2 = data_countries_pc.copy()\n",
    "for i in range(0,len(countries)):\n",
    "    data_countries_pc2[i] = data_countries_pc2[i].reset_index()\n",
    "    data_countries_pc2[i]['n_days'] = data_countries_pc2[i].index\n",
    "    data_countries_pc2[i]['log_cases'] = np.log(data_countries_pc2[i][\"total_cases\"])\n",
    "data_plot = data_countries_pc2[0]\n",
    "for i in range(1, len(countries)):    \n",
    "    data_plot = pd.concat([data_plot, data_countries_pc2[i]], axis=0)\n",
    "data_plot[\"trend_2days\"] = np.log(2)/2*data_plot[\"n_days\"]\n",
    "data_plot[\"trend_4days\"] = np.log(2)/4*data_plot[\"n_days\"]\n",
    "data_plot[\"trend_12days\"] = np.log(2)/12*data_plot[\"n_days\"]\n",
    "data_plot[\"trend_2days_label\"] = \"Doubles every 2 days\"\n",
    "data_plot[\"trend_4days_label\"] = \"Doubles evey 4 days\"\n",
    "data_plot[\"trend_12days_label\"] = \"Doubles every 12 days\"\n",
    "\n",
    "\n",
    "# Plot it using Altair\n",
    "source = data_plot\n",
    "\n",
    "scales = alt.selection_interval(bind='scales', zoom=False)\n",
    "selection = alt.selection_multi(fields=['location'], bind='legend')\n",
    "\n",
    "base = alt.Chart(source, title = \"COVID-19 Deaths Per Million of Inhabitants\").encode(\n",
    "    x = alt.X('n_days:Q', title = \"Days passed since reaching 1 death per million\"),\n",
    "    y = alt.Y(\"log_cases:Q\",title = \"Log of deaths per million\"),\n",
    "    color = alt.Color('location:N', legend=alt.Legend(title=\"Country\", labelFontSize=15, titleFontSize=17),\n",
    "                     scale=alt.Scale(scheme='tableau20')),\n",
    "    opacity = alt.condition(selection, alt.value(1), alt.value(0.1))\n",
    ")\n",
    "\n",
    "lines = base.mark_line().add_selection(\n",
    "    scales\n",
    ").add_selection(\n",
    "    selection\n",
    ").properties(\n",
    "    width=chart_width,\n",
    "    height=chart_height\n",
    ")\n",
    "\n",
    "trend_2d = alt.Chart(source).encode(\n",
    "    x = \"n_days:Q\",\n",
    "    y = alt.Y(\"trend_2days:Q\",  scale=alt.Scale(domain=(0, max(data_plot[\"log_cases\"])))),\n",
    ").mark_line(color=\"grey\", strokeDash=[3,3])\n",
    "\n",
    "\n",
    "labels = pd.DataFrame([{'label': 'Doubles every 2 days', 'x_coord': 11.4, 'y_coord': 6.5},\n",
    "                       {'label': 'Doubles every 4 days', 'x_coord': 30.5, 'y_coord': 6.5},\n",
    "                       {'label': 'Doubles every 12 days', 'x_coord': 46, 'y_coord': 3},\n",
    "                      ])\n",
    "trend_label = (alt.Chart(labels)\n",
    "                    .mark_text(align='left', dx=-55, dy=-15, fontSize=12, color=\"grey\")\n",
    "                    .encode(x='x_coord:Q',\n",
    "                            y='y_coord:Q',\n",
    "                            text='label:N')\n",
    "                   )\n",
    "\n",
    "trend_4d = alt.Chart(source).mark_line(color=\"grey\", strokeDash=[3,3]).encode(\n",
    "    x = \"n_days:Q\",\n",
    "    y = alt.Y(\"trend_4days:Q\",  scale=alt.Scale(domain=(0, max(data_plot[\"log_cases\"])))),\n",
    ")\n",
    "\n",
    "trend_12d = alt.Chart(source).mark_line(color=\"grey\", strokeDash=[3,3]).encode(\n",
    "    x = \"n_days:Q\",\n",
    "    y = alt.Y(\"trend_12days:Q\",  scale=alt.Scale(domain=(0, max(data_plot[\"log_cases\"])))),\n",
    ")\n",
    "\n",
    "\n",
    "plot1= (\n",
    "(trend_2d + trend_4d + trend_12d + trend_label + lines)\n",
    ".configure_title(fontSize=20)\n",
    ".configure_axis(labelFontSize=15,titleFontSize=18)\n",
    ")\n",
    "#plot1.save((\"../images/covid-permillion-trajectories.png\"))\n",
    "plot1"
   ]
  },
  {
   "cell_type": "markdown",
   "metadata": {
    "papermill": {
     "duration": 0.014971,
     "end_time": "2020-04-28T12:13:13.062500",
     "exception": false,
     "start_time": "2020-04-28T12:13:13.047529",
     "status": "completed"
    },
    "tags": []
   },
   "source": [
    "Last Available Total Deaths By Country:"
   ]
  },
  {
   "cell_type": "code",
   "execution_count": 5,
   "metadata": {
    "execution": {
     "iopub.execute_input": "2020-04-28T12:13:13.101917Z",
     "iopub.status.busy": "2020-04-28T12:13:13.100352Z",
     "iopub.status.idle": "2020-04-28T12:13:13.133631Z",
     "shell.execute_reply": "2020-04-28T12:13:13.134161Z"
    },
    "papermill": {
     "duration": 0.056931,
     "end_time": "2020-04-28T12:13:13.134308",
     "exception": false,
     "start_time": "2020-04-28T12:13:13.077377",
     "status": "completed"
    },
    "tags": []
   },
   "outputs": [
    {
     "output_type": "error",
     "ename": "NameError",
     "evalue": "name 'data_countries_pc' is not defined",
     "traceback": [
      "\u001b[0;31m---------------------------------------------------------------------------\u001b[0m",
      "\u001b[0;31mNameError\u001b[0m                                 Traceback (most recent call last)",
      "\u001b[0;32m<ipython-input-5-743318213d19>\u001b[0m in \u001b[0;36m<module>\u001b[0;34m\u001b[0m\n\u001b[1;32m      1\u001b[0m \u001b[0;31m#hide_input\u001b[0m\u001b[0;34m\u001b[0m\u001b[0;34m\u001b[0m\u001b[0;34m\u001b[0m\u001b[0m\n\u001b[1;32m      2\u001b[0m \u001b[0mlabel\u001b[0m \u001b[0;34m=\u001b[0m \u001b[0;34m'Deaths'\u001b[0m\u001b[0;34m\u001b[0m\u001b[0;34m\u001b[0m\u001b[0m\n\u001b[0;32m----> 3\u001b[0;31m \u001b[0mtemp\u001b[0m \u001b[0;34m=\u001b[0m \u001b[0mpd\u001b[0m\u001b[0;34m.\u001b[0m\u001b[0mconcat\u001b[0m\u001b[0;34m(\u001b[0m\u001b[0;34m[\u001b[0m\u001b[0mx\u001b[0m\u001b[0;34m.\u001b[0m\u001b[0mcopy\u001b[0m\u001b[0;34m(\u001b[0m\u001b[0;34m)\u001b[0m \u001b[0;32mfor\u001b[0m \u001b[0mx\u001b[0m \u001b[0;32min\u001b[0m \u001b[0mdata_countries_pc\u001b[0m\u001b[0;34m]\u001b[0m\u001b[0;34m)\u001b[0m\u001b[0;34m.\u001b[0m\u001b[0mloc\u001b[0m\u001b[0;34m[\u001b[0m\u001b[0;32mlambda\u001b[0m \u001b[0mx\u001b[0m\u001b[0;34m:\u001b[0m \u001b[0mx\u001b[0m\u001b[0;34m.\u001b[0m\u001b[0mdate\u001b[0m \u001b[0;34m>=\u001b[0m \u001b[0;34m'3/1/2020'\u001b[0m\u001b[0;34m]\u001b[0m\u001b[0;34m\u001b[0m\u001b[0;34m\u001b[0m\u001b[0m\n\u001b[0m\u001b[1;32m      4\u001b[0m \u001b[0;34m\u001b[0m\u001b[0m\n\u001b[1;32m      5\u001b[0m \u001b[0mmetric_name\u001b[0m \u001b[0;34m=\u001b[0m \u001b[0;34mf'{label} per Million'\u001b[0m\u001b[0;34m\u001b[0m\u001b[0;34m\u001b[0m\u001b[0m\n",
      "\u001b[0;31mNameError\u001b[0m: name 'data_countries_pc' is not defined"
     ]
    }
   ],
   "source": [
    "#hide_input\n",
    "label = 'Deaths'\n",
    "temp = pd.concat([x.copy() for x in data_countries_pc]).loc[lambda x: x.date >= '3/1/2020']\n",
    "\n",
    "metric_name = f'{label} per Million'\n",
    "temp.columns = ['Country', 'date', metric_name]\n",
    "# temp.loc[:, 'month'] = temp.date.dt.strftime('%Y-%m')\n",
    "temp.loc[:, f'Log of {label} per Million'] = temp[f'{label} per Million'].apply(lambda x: (x))\n",
    "\n",
    "temp.groupby('Country').last()"
   ]
  },
  {
   "cell_type": "code",
   "execution_count": null,
   "metadata": {
    "execution": {
     "iopub.execute_input": "2020-04-28T12:13:13.178008Z",
     "iopub.status.busy": "2020-04-28T12:13:13.177376Z",
     "iopub.status.idle": "2020-04-28T12:13:18.110392Z",
     "shell.execute_reply": "2020-04-28T12:13:18.109363Z"
    },
    "papermill": {
     "duration": 4.959798,
     "end_time": "2020-04-28T12:13:18.110520",
     "exception": false,
     "start_time": "2020-04-28T12:13:13.150722",
     "status": "completed"
    },
    "tags": []
   },
   "outputs": [],
   "source": [
    "#hide\n",
    "# Get data and clean it\n",
    "\n",
    "data = pd.read_csv(\"https://raw.githubusercontent.com/CSSEGISandData/COVID-19/master/csse_covid_19_data/csse_covid_19_time_series/time_series_covid19_confirmed_global.csv\", error_bad_lines=False)\n",
    "data = data.drop(columns=[\"Lat\", \"Long\"])\n",
    "data = data.melt(id_vars= [\"Province/State\", \"Country/Region\"])\n",
    "data = pd.DataFrame(data.groupby(['Country/Region', \"variable\"]).sum())\n",
    "data.reset_index(inplace=True)  \n",
    "data = data.rename(columns={\"Country/Region\": \"location\", \"variable\": \"date\", \"value\": \"total_cases\"})\n",
    "data['date'] =pd.to_datetime(data.date)\n",
    "data = data.sort_values(by = \"date\")\n",
    "data.loc[data.location == \"US\",\"location\"] = \"United States\"\n",
    "data.loc[data.location == \"Korea, South\",\"location\"] = \"South Korea\"\n",
    "\n",
    "# Population data (last year is 2017 which is what we use)\n",
    "data_pwt = pd.read_stata(\"https://www.rug.nl/ggdc/docs/pwt91.dta\")\n",
    "\n",
    "filter1 = data_pwt[\"year\"] == 2017\n",
    "data_pop = data_pwt[filter1]\n",
    "data_pop = data_pop[[\"country\",\"pop\"]]\n",
    "data_pop.loc[data_pop.country == \"Republic of Korea\",\"country\"] = \"South Korea\"\n",
    "data_pop.loc[data_pop.country == \"Iran (Islamic Republic of)\",\"country\"] = \"Iran\"\n",
    "\n",
    "# per habitant\n",
    "data_pc = data.copy()\n",
    "\n",
    "# I can add more countries if needed\n",
    "countries = [\"China\", \"Italy\", \"Spain\", \"France\", \"United Kingdom\", \"Germany\", \n",
    "             \"Portugal\", \"United States\", \"Singapore\",\"South Korea\", \"Japan\", \n",
    "             \"Brazil\", \"Iran\", \"Romania\"]\n",
    "\n",
    "data_countries = []\n",
    "data_countries_pc = []\n",
    "\n",
    "# compute per habitant\n",
    "for i in countries:\n",
    "    data_pc.loc[data_pc.location == i,\"total_cases\"] = data_pc.loc[data_pc.location == i,\"total_cases\"]/float(data_pop.loc[data_pop.country == i, \"pop\"])\n",
    "    \n",
    "# get each country time series\n",
    "filter1 = data_pc[\"total_cases\"] > 1\n",
    "\n",
    "for i in countries:\n",
    "    filter_country = data_pc[\"location\"]== i\n",
    "    data_countries_pc.append(data_pc[filter_country & filter1])"
   ]
  },
  {
   "cell_type": "markdown",
   "metadata": {
    "papermill": {
     "duration": 0.017036,
     "end_time": "2020-04-28T12:13:18.143953",
     "exception": false,
     "start_time": "2020-04-28T12:13:18.126917",
     "status": "completed"
    },
    "tags": []
   },
   "source": [
    "## Cases Per Million of Habitants\n",
    "\n",
    "Since reaching at least 1 case per million\n",
    "\n",
    "> Note: The following chart, \"Cases Per Million of Habitants\" is biased depending on how widely a country administers tests. Please read with caution.\n",
    "\n",
    "> Tip: Click (Shift+ for multiple) on countries in the legend to filter the visualization."
   ]
  },
  {
   "cell_type": "code",
   "execution_count": null,
   "metadata": {
    "execution": {
     "iopub.execute_input": "2020-04-28T12:13:18.208242Z",
     "iopub.status.busy": "2020-04-28T12:13:18.187958Z",
     "iopub.status.idle": "2020-04-28T12:13:18.446164Z",
     "shell.execute_reply": "2020-04-28T12:13:18.446680Z"
    },
    "papermill": {
     "duration": 0.287105,
     "end_time": "2020-04-28T12:13:18.446815",
     "exception": false,
     "start_time": "2020-04-28T12:13:18.159710",
     "status": "completed"
    },
    "tags": []
   },
   "outputs": [],
   "source": [
    "#hide_input\n",
    "# Stack data to get it to Altair dataframe format\n",
    "data_countries_pc2 = data_countries_pc.copy()\n",
    "for i in range(0,len(countries)):\n",
    "    data_countries_pc2[i] = data_countries_pc2[i].reset_index()\n",
    "    data_countries_pc2[i]['n_days'] = data_countries_pc2[i].index\n",
    "    data_countries_pc2[i]['log_cases'] = np.log(data_countries_pc2[i][\"total_cases\"])\n",
    "data_plot = data_countries_pc2[0]\n",
    "for i in range(1, len(countries)):    \n",
    "    data_plot = pd.concat([data_plot, data_countries_pc2[i]], axis=0)\n",
    "data_plot[\"trend_2days\"] = np.log(2)/2*data_plot[\"n_days\"]\n",
    "data_plot[\"trend_4days\"] = np.log(2)/4*data_plot[\"n_days\"]\n",
    "data_plot[\"trend_12days\"] = np.log(2)/12*data_plot[\"n_days\"]\n",
    "data_plot[\"trend_2days_label\"] = \"Doubles every 2 days\"\n",
    "data_plot[\"trend_4days_label\"] = \"Doubles evey 4 days\"\n",
    "data_plot[\"trend_12days_label\"] = \"Doubles every 12 days\"\n",
    "\n",
    "\n",
    "# Plot it using Altair\n",
    "source = data_plot\n",
    "\n",
    "scales = alt.selection_interval(bind='scales', zoom=False)\n",
    "selection = alt.selection_multi(fields=['location'], bind='legend')\n",
    "\n",
    "base = alt.Chart(source, title = \"COVID-19 Confirmed Cases Per Million of Inhabitants\").encode(\n",
    "    x = alt.X('n_days:Q', title = \"Days passed since reaching 1 case per million\"),\n",
    "    y = alt.Y(\"log_cases:Q\",title = \"Log of confirmed cases per million\"),\n",
    "    color = alt.Color('location:N', legend=alt.Legend(title=\"Country\", labelFontSize=15, titleFontSize=17),\n",
    "                     scale=alt.Scale(scheme='tableau20')),\n",
    "    opacity = alt.condition(selection, alt.value(1), alt.value(0.1))\n",
    ").properties(\n",
    "    width=chart_width,\n",
    "    height=chart_height\n",
    ")\n",
    "\n",
    "lines = base.mark_line().add_selection(\n",
    "    scales\n",
    ").add_selection(\n",
    "    selection\n",
    ")\n",
    "\n",
    "trend_2d = alt.Chart(source).encode(\n",
    "    x = \"n_days:Q\",\n",
    "    y = alt.Y(\"trend_2days:Q\",  scale=alt.Scale(domain=(0, max(data_plot[\"log_cases\"])))),\n",
    ").mark_line( strokeDash=[3,3], color=\"grey\")\n",
    "\n",
    "labels = pd.DataFrame([{'label': 'Doubles every 2 days', 'x_coord': 13, 'y_coord': 8.3},\n",
    "                       {'label': 'Doubles every 4 days', 'x_coord': 37.5, 'y_coord': 8.3},\n",
    "                       {'label': 'Doubles every 12 days', 'x_coord': 71, 'y_coord': 3},\n",
    "                      ])\n",
    "trend_label = (alt.Chart(labels)\n",
    "                    .mark_text(align='left', dx=-55, dy=-15, fontSize=12, color=\"grey\")\n",
    "                    .encode(x='x_coord:Q',\n",
    "                            y='y_coord:Q',\n",
    "                            text='label:N')\n",
    "                   )\n",
    "\n",
    "\n",
    "trend_4d = alt.Chart(source).mark_line(color=\"grey\", strokeDash=[3,3]).encode(\n",
    "    x = \"n_days:Q\",\n",
    "    y = alt.Y(\"trend_4days:Q\",  scale=alt.Scale(domain=(0, max(data_plot[\"log_cases\"])))),\n",
    ")\n",
    "\n",
    "trend_12d = alt.Chart(source).mark_line(color=\"grey\", strokeDash=[3,3]).encode(\n",
    "    x = \"n_days:Q\",\n",
    "    y = alt.Y(\"trend_12days:Q\",  scale=alt.Scale(domain=(0, max(data_plot[\"log_cases\"])))),\n",
    ")\n",
    "\n",
    "(\n",
    "(trend_2d  + trend_4d + trend_12d + trend_label + lines)\n",
    ".configure_title(fontSize=20)\n",
    ".configure_axis(labelFontSize=15,titleFontSize=18)\n",
    ")"
   ]
  },
  {
   "cell_type": "code",
   "execution_count": null,
   "metadata": {},
   "outputs": [],
   "source": [
    "#hide_input\n",
    "\n",
    "#Added by Arun Gupta for Recovery and Death Rates\n",
    "# load data for infections, deaths, and recovered\n",
    "df_confirmed = load_individual_timeseries('confirmed')\n",
    "df_death = load_individual_timeseries('deaths')\n",
    "df_recovered = load_individual_timeseries('recovered')\n",
    "\n",
    "# clean the data\n",
    "df_confirmed = df_confirmed[~df_confirmed['country'].str.contains(' \\(total\\)')].drop(['state', 'type'], axis=1, ).reset_index()\n",
    "df_death = df_death[~df_death['country'].str.contains(' \\(total\\)')].drop(['state', 'type'], axis=1, ).reset_index()\n",
    "df_recovered = df_recovered[~df_recovered['country'].str.contains(' \\(total\\)')].drop(['state', 'type'], axis=1, ).reset_index()\n",
    "\n",
    "# get the data only for the latest date\n",
    "Latest_Date = df_confirmed['date'].max()\n",
    "df_confirmed = df_confirmed.loc[df_confirmed['date'] == Latest_Date]\n",
    "df_death = df_death.loc[df_death['date'] == Latest_Date]\n",
    "df_recovered = df_recovered.loc[df_recovered['date'] == Latest_Date]\n",
    "\n",
    "# remove column 'date' as it is no more required\n",
    "df_confirmed = df_confirmed.drop('date', axis=1)\n",
    "df_death = df_death.drop('date', axis=1)\n",
    "df_recovered = df_recovered.drop('date', axis=1)\n",
    "\n",
    "# aggregate data\n",
    "df_confirmed = (df_confirmed.sort_values(by=['country'])\n",
    "                            .groupby(['country'])\n",
    "                            .agg(sum)).reset_index()\n",
    "\n",
    "df_death = (df_death.sort_values(by=['country'])\n",
    "                    .groupby(['country'])\n",
    "                    .agg(sum)).reset_index()\n",
    "\n",
    "df_recovered = (df_recovered.sort_values(by=['country'])\n",
    "                            .groupby(['country'])\n",
    "                            .agg(sum)).reset_index()\n",
    "\n",
    "# rename the column for 'cases' in respective datasets\n",
    "df_confirmed = df_confirmed.rename(columns={\"cases\": \"infections\"})\n",
    "df_death = df_death.rename(columns={\"cases\": \"deaths\"})\n",
    "df_recovered = df_recovered.rename(columns={\"cases\": \"recovered\"})\n",
    "\n",
    "# (inner)join the datasets for 'confirmed' and 'death' on 'country'\n",
    "df_Master = pd.merge(df_confirmed, df_death, how='inner', on='country', left_on=None, right_on=None, left_index=False, right_index=False, sort=True)\n",
    "df_Master = pd.merge(df_Master, df_recovered, how='inner', on='country', left_on=None, right_on=None, left_index=False, right_index=False, sort=True)\n",
    "\n",
    "# rename the Countries\n",
    "df_Master['country'] = df_Master['country'].replace({'Bosnia and Herzegovina':'Bosnia Herzegovina',\n",
    "                                                     'Timor-Leste'           :'East Timor',\n",
    "                                                     \"Cote d'Ivoire\"         :'Ivory Coast',\n",
    "                                                     'Burma'                 :'Myanmar',\n",
    "                                                     'Korea, South'          :'South Korea',\n",
    "                                                     'Taiwan*'               :'Taiwan',\n",
    "                                                     'US'                    :'United States of America',\n",
    "                                                     'Holy See'              :'Vatican City'})\n",
    "\n",
    "## remove the countries that have less than 200 confirmed cases\n",
    "case_threshold = 200 \n",
    "keep_countries = df_Master.loc[(df_Master['infections'] > case_threshold)].country\n",
    "df_Master = df_Master.loc[df_Master['country'].isin(keep_countries)]\n",
    "\n",
    "# calculate 'deaths' and 'recovery' per 1000 infections\n",
    "df_Master['Deaths_per_1000'] = round(1000 * (df_Master['deaths']/df_Master['infections']), 2)\n",
    "df_Master['Recovered_per_1000'] = round(1000 * (df_Master['recovered']/df_Master['infections']), 2)\n",
    "\n",
    "# get countries with top 50 death rates\n",
    "df_top_death = df_Master.sort_values(by=['Deaths_per_1000'], ascending=False)\n",
    "df_top_death = df_top_death.head(50)\n",
    "\n",
    "# get countries with top 50 recovery rates\n",
    "df_top_recovered = df_Master.sort_values(by=['Recovered_per_1000'], ascending=False)\n",
    "df_top_recovered = df_top_recovered.head(50)\n",
    "\n",
    "# get rest of the countries\n",
    "df_ROW = df_Master.loc[~df_Master['country'].isin(df_top_death.country)]\n",
    "df_ROW = df_ROW.loc[~df_ROW['country'].isin(df_top_recovered.country)]"
   ]
  },
  {
   "cell_type": "markdown",
   "metadata": {},
   "source": [
    "This graph shows the 50 countries that are facing highest rate of deaths per 1000 infections, across the world. As it is not so intuitive that the developed countries such as Belgium, France, Netherlands are among the top countries having highest death rate."
   ]
  },
  {
   "cell_type": "code",
   "execution_count": null,
   "metadata": {},
   "outputs": [],
   "source": [
    "#hide_input\n",
    "# make the bar-chart for countries on \"deaths per 1000 infections\"\n",
    "alt.Chart(df_top_death).mark_bar(color='Orange').encode(\n",
    "    x= alt.Y('country:N', sort='-y', title=\"Countries\"),\n",
    "    y=alt.Y('Deaths_per_1000', title=\"Deaths per 1000 infected people\")\n",
    ").properties(\n",
    "    title='Countries with top death rates')"
   ]
  },
  {
   "cell_type": "markdown",
   "metadata": {},
   "source": [
    "Further, we move on to the countries with best recovery rate. The graph below shows 50 countries with highest rate of recovery."
   ]
  },
  {
   "cell_type": "code",
   "execution_count": null,
   "metadata": {},
   "outputs": [],
   "source": [
    "#hide_input\n",
    "# make the bar-chart for countries on \"recovery per 1000 infections\"\n",
    "alt.Chart(df_top_recovered).mark_bar(color='#00CC66').encode(\n",
    "    x= alt.Y('country:N', sort='-y', title=\"Countries\"),\n",
    "    y=alt.Y('Recovered_per_1000', title=\"Recovered per 1000 infected people\")\n",
    ").properties(\n",
    "    title='Countries with top recovery rates')"
   ]
  },
  {
   "cell_type": "markdown",
   "metadata": {},
   "source": [
    "Finally we project the data from above graphs on to a scatter plot. The Orange and Green bubbles are from the above two bar charts. Additionally, the bubbles in Grey color are the rest of the countries."
   ]
  },
  {
   "cell_type": "code",
   "execution_count": null,
   "metadata": {},
   "outputs": [],
   "source": [
    "#hide_input\n",
    "# make the scatter plot for \"Death Rates by Population Density\"\n",
    "chart_high_recovery = alt.Chart(df_top_recovered).mark_circle(size=150, color='#00CC66').encode(\n",
    "    x=alt.Y('Recovered_per_1000',  title=\"Recovery per 1000 infections\"),\n",
    "    y=alt.Y('Deaths_per_1000',  title=\"Deaths per 1000 infections\"),\n",
    "    tooltip=['country', 'Recovered_per_1000', 'Deaths_per_1000']\n",
    ").properties(\n",
    "    width=700,\n",
    "    height=450)\n",
    "\n",
    "chart_high_death = alt.Chart(df_top_death).mark_circle(size=150, color='Orange').encode(\n",
    "    x=alt.Y('Recovered_per_1000',  title=\"Recovery per 1000 infections\"),\n",
    "    y=alt.Y('Deaths_per_1000',  title=\"Deaths per 1000 infections\"),\n",
    "    tooltip=['country', 'Recovered_per_1000', 'Deaths_per_1000']\n",
    ").properties(\n",
    "    width=700,\n",
    "    height=450)\n",
    "\n",
    "chart_rest = alt.Chart(df_ROW).mark_circle(size=150, color='#C3C3C3').encode(\n",
    "    x=alt.Y('Recovered_per_1000'),\n",
    "    y=alt.Y('Deaths_per_1000'),\n",
    "    tooltip=['country', 'Recovered_per_1000', 'Deaths_per_1000']\n",
    ").properties(\n",
    "    width=700,\n",
    "    height=450)\n",
    "\n",
    "(chart_high_recovery + chart_high_death + chart_rest).interactive()"
   ]
  },
  {
   "cell_type": "markdown",
   "metadata": {
    "papermill": {
     "duration": 0.021479,
     "end_time": "2020-04-28T12:13:18.489956",
     "exception": false,
     "start_time": "2020-04-28T12:13:18.468477",
     "status": "completed"
    },
    "tags": []
   },
   "source": [
    "## Appendix"
   ]
  },
  {
   "cell_type": "markdown",
   "metadata": {
    "papermill": {
     "duration": 0.021776,
     "end_time": "2020-04-28T12:13:18.534057",
     "exception": false,
     "start_time": "2020-04-28T12:13:18.512281",
     "status": "completed"
    },
    "tags": []
   },
   "source": [
    "Last Available Cases Per Million By Country:"
   ]
  },
  {
   "cell_type": "code",
   "execution_count": null,
   "metadata": {
    "execution": {
     "iopub.execute_input": "2020-04-28T12:13:18.586833Z",
     "iopub.status.busy": "2020-04-28T12:13:18.585360Z",
     "iopub.status.idle": "2020-04-28T12:13:18.613218Z",
     "shell.execute_reply": "2020-04-28T12:13:18.612574Z"
    },
    "papermill": {
     "duration": 0.057634,
     "end_time": "2020-04-28T12:13:18.613360",
     "exception": false,
     "start_time": "2020-04-28T12:13:18.555726",
     "status": "completed"
    },
    "tags": []
   },
   "outputs": [],
   "source": [
    "#hide_input\n",
    "label = 'Cases'\n",
    "temp = pd.concat([x.copy() for x in data_countries_pc]).loc[lambda x: x.date >= '3/1/2020']\n",
    "\n",
    "metric_name = f'{label} per Million'\n",
    "temp.columns = ['Country', 'date', metric_name]\n",
    "# temp.loc[:, 'month'] = temp.date.dt.strftime('%Y-%m')\n",
    "temp.loc[:, f'Log of {label} per Million'] = temp[f'{label} per Million'].apply(lambda x: np.log(x))\n",
    "\n",
    "temp.groupby('Country').last()"
   ]
  },
  {
   "cell_type": "markdown",
   "metadata": {
    "papermill": {
     "duration": 0.02317,
     "end_time": "2020-04-28T12:13:18.660449",
     "exception": false,
     "start_time": "2020-04-28T12:13:18.637279",
     "status": "completed"
    },
    "tags": []
   },
   "source": [
    "This analysis was conducted by [Joao B. Duarte](http://jbduarte.com). Assitance with creating visualizations were provided by [Hamel Husain](https://twitter.com/HamelHusain). \n",
    "The highest Recovery and Death rates were added by [Arun Gupta](https://www.linkedin.com/in/arungupta21/). \n",
    "Relevant sources are listed below: \n",
    "\n",
    "\n",
    "1. [\"2019 Novel Coronavirus COVID-19 (2019-nCoV) Data Repository by Johns Hopkins CSSE\"](https://systems.jhu.edu/research/public-health/ncov/) [GitHub repository](https://github.com/CSSEGISandData/COVID-19). \n",
    "\n",
    "2. [Feenstra, Robert C., Robert Inklaar and Marcel P. Timmer (2015), \"The Next Generation of the Penn World Table\" American Economic Review, 105(10), 3150-3182](https://www.rug.nl/ggdc/productivity/pwt/related-research)"
   ]
  }
 ],
 "metadata": {
  "kernelspec": {
   "display_name": "Python 3.7.3 64-bit",
   "language": "python",
   "name": "python37364bit5619dc393895466581a412aaa4dbe7cf"
  },
  "language_info": {
   "codemirror_mode": {
    "name": "ipython",
    "version": 3
   },
   "file_extension": ".py",
   "mimetype": "text/x-python",
   "name": "python",
   "nbconvert_exporter": "python",
   "pygments_lexer": "ipython3",
   "version": "3.7.3-final"
  },
  "papermill": {
   "duration": 18.077424,
   "end_time": "2020-04-28T12:13:19.742361",
   "environment_variables": {},
   "exception": null,
   "input_path": "2020-03-19-cases-and-deaths-per-million.ipynb",
   "output_path": "2020-03-19-cases-and-deaths-per-million.ipynb",
   "parameters": {},
   "start_time": "2020-04-28T12:13:01.664937",
   "version": "2.0.0"
  },
  "toc": {
   "base_numbering": 1,
   "nav_menu": {},
   "number_sections": true,
   "sideBar": true,
   "skip_h1_title": false,
   "title_cell": "Table of Contents",
   "title_sidebar": "Contents",
   "toc_cell": false,
   "toc_position": {},
   "toc_section_display": true,
   "toc_window_display": false
  },
  "varInspector": {
   "cols": {
    "lenName": 16,
    "lenType": 16,
    "lenVar": 40
   },
   "kernels_config": {
    "python": {
     "delete_cmd_postfix": "",
     "delete_cmd_prefix": "del ",
     "library": "var_list.py",
     "varRefreshCmd": "print(var_dic_list())"
    },
    "r": {
     "delete_cmd_postfix": ") ",
     "delete_cmd_prefix": "rm(",
     "library": "var_list.r",
     "varRefreshCmd": "cat(var_dic_list()) "
    }
   },
   "types_to_exclude": [
    "module",
    "function",
    "builtin_function_or_method",
    "instance",
    "_Feature"
   ],
   "window_display": false
  }
 },
 "nbformat": 4,
 "nbformat_minor": 2
}